{
  "nbformat": 4,
  "nbformat_minor": 0,
  "metadata": {
    "colab": {
      "provenance": [],
      "include_colab_link": true
    },
    "kernelspec": {
      "name": "python3",
      "display_name": "Python 3"
    },
    "language_info": {
      "name": "python"
    }
  },
  "cells": [
    {
      "cell_type": "markdown",
      "metadata": {
        "id": "view-in-github",
        "colab_type": "text"
      },
      "source": [
        "<a href=\"https://colab.research.google.com/github/Alfredchong726/DLI-Group-Assignment/blob/main/DLI_Group_Assignment.ipynb\" target=\"_parent\"><img src=\"https://colab.research.google.com/assets/colab-badge.svg\" alt=\"Open In Colab\"/></a>"
      ]
    },
    {
      "cell_type": "markdown",
      "source": [
        "## First commint to GitHub"
      ],
      "metadata": {
        "id": "eefkLYk01aJp"
      }
    },
    {
      "cell_type": "code",
      "source": [
        "from google.colab import drive\n",
        "drive.mount('/content/drive', force_remount=True)"
      ],
      "metadata": {
        "colab": {
          "base_uri": "https://localhost:8080/"
        },
        "id": "xf25uYCu8Orn",
        "outputId": "0f560279-a96c-4753-b35e-e2e4f1a19d9e"
      },
      "execution_count": null,
      "outputs": [
        {
          "output_type": "stream",
          "name": "stdout",
          "text": [
            "Drive already mounted at /content/drive; to attempt to forcibly remount, call drive.mount(\"/content/drive\", force_remount=True).\n"
          ]
        }
      ]
    },
    {
      "cell_type": "markdown",
      "source": [
        "#  DATA CLEANING & PREPROCESSING\n",
        "\n"
      ],
      "metadata": {
        "id": "AIYfbYQlprBT"
      }
    },
    {
      "cell_type": "code",
      "source": [],
      "metadata": {
        "id": "Jd4UXRmzpwuG"
      },
      "execution_count": null,
      "outputs": []
    },
    {
      "cell_type": "markdown",
      "source": [
        "# ============ MODEL TRAINING ============"
      ],
      "metadata": {
        "id": "2sJvFhP-8c_Y"
      }
    },
    {
      "cell_type": "markdown",
      "source": [
        "# CHONG MUN SEONG (TP063440)"
      ],
      "metadata": {
        "id": "tS5HMHxv73VX"
      }
    },
    {
      "cell_type": "markdown",
      "source": [
        "# SOO CHEN KANG (TP065578)"
      ],
      "metadata": {
        "id": "meABj23S79Gg"
      }
    },
    {
      "cell_type": "markdown",
      "source": [
        "# TENG YI LING (TP065686)"
      ],
      "metadata": {
        "id": "x_b5p5YN7-NY"
      }
    },
    {
      "cell_type": "markdown",
      "source": [
        "# ============ FINAL RESULT (XGBOOST) ============"
      ],
      "metadata": {
        "id": "sXaTWech89Le"
      }
    },
    {
      "cell_type": "code",
      "source": [],
      "metadata": {
        "id": "_Ife0CmG9Ff5"
      },
      "execution_count": null,
      "outputs": []
    }
  ]
}